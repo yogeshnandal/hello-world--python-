{
 "cells": [
  {
   "cell_type": "code",
   "execution_count": 10,
   "metadata": {},
   "outputs": [
    {
     "name": "stdout",
     "output_type": "stream",
     "text": [
      "h\n"
     ]
    }
   ],
   "source": [
    "def last_name(a):\n",
    "    return a[-1]\n",
    "name=last_name(\"yogesh\")\n",
    "print(name)"
   ]
  },
  {
   "cell_type": "code",
   "execution_count": 13,
   "metadata": {},
   "outputs": [],
   "source": [
    "def odd_even(num):\n",
    "    if num%2 == 0:\n",
    "        return \"Even\"\n",
    "    else:\n",
    "        return \"odd\""
   ]
  },
  {
   "cell_type": "code",
   "execution_count": 16,
   "metadata": {},
   "outputs": [
    {
     "data": {
      "text/plain": [
       "'Even'"
      ]
     },
     "execution_count": 16,
     "metadata": {},
     "output_type": "execute_result"
    }
   ],
   "source": [
    "odd_even(2)"
   ]
  },
  {
   "cell_type": "code",
   "execution_count": 17,
   "metadata": {},
   "outputs": [
    {
     "data": {
      "text/plain": [
       "'odd'"
      ]
     },
     "execution_count": 17,
     "metadata": {},
     "output_type": "execute_result"
    }
   ],
   "source": [
    "odd_even(3)"
   ]
  },
  {
   "cell_type": "code",
   "execution_count": 18,
   "metadata": {},
   "outputs": [],
   "source": [
    "def odd_even(num):\n",
    "    if num%2 == 0:\n",
    "        return \"Even\"\n",
    "    return \"odd\""
   ]
  },
  {
   "cell_type": "code",
   "execution_count": 19,
   "metadata": {},
   "outputs": [
    {
     "data": {
      "text/plain": [
       "'Even'"
      ]
     },
     "execution_count": 19,
     "metadata": {},
     "output_type": "execute_result"
    }
   ],
   "source": [
    "odd_even(2)"
   ]
  },
  {
   "cell_type": "code",
   "execution_count": 20,
   "metadata": {},
   "outputs": [
    {
     "data": {
      "text/plain": [
       "'odd'"
      ]
     },
     "execution_count": 20,
     "metadata": {},
     "output_type": "execute_result"
    }
   ],
   "source": [
    "odd_even(7)"
   ]
  },
  {
   "cell_type": "code",
   "execution_count": 22,
   "metadata": {},
   "outputs": [],
   "source": [
    "def is_even(num):\n",
    "    if num%2 == 0:\n",
    "        return True\n",
    "    return False"
   ]
  },
  {
   "cell_type": "code",
   "execution_count": 23,
   "metadata": {},
   "outputs": [
    {
     "data": {
      "text/plain": [
       "True"
      ]
     },
     "execution_count": 23,
     "metadata": {},
     "output_type": "execute_result"
    }
   ],
   "source": [
    "is_even(4)"
   ]
  },
  {
   "cell_type": "code",
   "execution_count": 24,
   "metadata": {},
   "outputs": [
    {
     "data": {
      "text/plain": [
       "True"
      ]
     },
     "execution_count": 24,
     "metadata": {},
     "output_type": "execute_result"
    }
   ],
   "source": [
    "is_even(42)"
   ]
  },
  {
   "cell_type": "code",
   "execution_count": 25,
   "metadata": {},
   "outputs": [
    {
     "data": {
      "text/plain": [
       "False"
      ]
     },
     "execution_count": 25,
     "metadata": {},
     "output_type": "execute_result"
    }
   ],
   "source": [
    "is_even(43)"
   ]
  },
  {
   "cell_type": "code",
   "execution_count": 2,
   "metadata": {},
   "outputs": [],
   "source": [
    "def is_even(num):\n",
    "    return num%2 == 0"
   ]
  },
  {
   "cell_type": "code",
   "execution_count": 3,
   "metadata": {},
   "outputs": [
    {
     "data": {
      "text/plain": [
       "True"
      ]
     },
     "execution_count": 3,
     "metadata": {},
     "output_type": "execute_result"
    }
   ],
   "source": [
    "is_even(42)"
   ]
  },
  {
   "cell_type": "code",
   "execution_count": 4,
   "metadata": {},
   "outputs": [
    {
     "data": {
      "text/plain": [
       "False"
      ]
     },
     "execution_count": 4,
     "metadata": {},
     "output_type": "execute_result"
    }
   ],
   "source": [
    "is_even(47)"
   ]
  },
  {
   "cell_type": "code",
   "execution_count": 64,
   "metadata": {},
   "outputs": [
    {
     "name": "stdout",
     "output_type": "stream",
     "text": [
      "45\n",
      "32\n",
      "45 is greater\n"
     ]
    }
   ],
   "source": [
    "def i(num1,num2):\n",
    "    if num1>num2:\n",
    "        return num1\n",
    "    return num2\n",
    "num1=int(input(\"\"))\n",
    "num2=int(input(\"\"))\n",
    "print(f\"{i(num1,num2)} is greater\")"
   ]
  },
  {
   "cell_type": "code",
   "execution_count": 4,
   "metadata": {},
   "outputs": [
    {
     "name": "stdout",
     "output_type": "stream",
     "text": [
      "[0, 1, 4, 9, 16, 25, 36, 49, 64, 81, 100]\n"
     ]
    }
   ],
   "source": [
    "def lst(l):\n",
    "    lit = []\n",
    "    for i in l:\n",
    "        lit.append(i**2)\n",
    "    return lit\n",
    "it= list(range(0,11))\n",
    "print(lst(it))"
   ]
  },
  {
   "cell_type": "code",
   "execution_count": 5,
   "metadata": {},
   "outputs": [
    {
     "name": "stdout",
     "output_type": "stream",
     "text": [
      "enter some numbers comma saperated: 23,42,45,64,11,22,3,5,52\n",
      "529\n",
      "1764\n",
      "2025\n",
      "4096\n",
      "121\n",
      "484\n",
      "9\n",
      "25\n",
      "2704\n"
     ]
    }
   ],
   "source": [
    "number=input(\"enter some numbers comma saperated: \").split(\",\")\n",
    "for i in number:\n",
    "    print(int(i)**2)\n"
   ]
  },
  {
   "cell_type": "code",
   "execution_count": 7,
   "metadata": {},
   "outputs": [
    {
     "name": "stdout",
     "output_type": "stream",
     "text": [
      "[1, 4, 9, 16, 25, 36, 49, 64, 81, 100]\n"
     ]
    }
   ],
   "source": [
    "number = [1,2,3,4,5,6,7,8,9,10]\n",
    "def square(num):\n",
    "    square_number = [ ]\n",
    "    for i in num:\n",
    "        square_number.append(i*i)\n",
    "    return square_number\n",
    "print(square(number))\n",
    "\n",
    "\n"
   ]
  },
  {
   "cell_type": "code",
   "execution_count": 170,
   "metadata": {},
   "outputs": [
    {
     "name": "stdout",
     "output_type": "stream",
     "text": [
      "[25, 'ankush', 23, 'Yogesh']\n"
     ]
    }
   ],
   "source": [
    "def a_list(lst):\n",
    "    return [i for i in lst[::-1]]\n",
    "print(a_list(['Yogesh',23,'ankush',25]))\n",
    "        \n",
    "    "
   ]
  },
  {
   "cell_type": "code",
   "execution_count": 18,
   "metadata": {},
   "outputs": [
    {
     "name": "stdout",
     "output_type": "stream",
     "text": [
      "[5, 4, 2, 'Ankush', 'yogesh']\n"
     ]
    }
   ],
   "source": [
    "inkpink_list = ['yogesh','Ankush',2,4,5]\n",
    "def ankush(num):\n",
    "    output = []\n",
    "    for i in range(len(num)):\n",
    "        list_poped = num.pop()\n",
    "        output.append(list_poped)\n",
    "    return output\n",
    "print(ankush(inkpink_list))    "
   ]
  },
  {
   "cell_type": "code",
   "execution_count": 9,
   "metadata": {},
   "outputs": [
    {
     "name": "stdout",
     "output_type": "stream",
     "text": [
      "[7, 5, 3, 'ankush', 'yogesh']\n"
     ]
    }
   ],
   "source": [
    "input_list = ['yogesh','ankush',3,5,7]\n",
    "def r_list(lst):\n",
    "    output = []\n",
    "    for i in range(len(lst)):\n",
    "        input_poped = lst.pop()\n",
    "        output.append(input_poped)\n",
    "    return output\n",
    "print(r_list(input_list))"
   ]
  },
  {
   "cell_type": "code",
   "execution_count": 26,
   "metadata": {},
   "outputs": [
    {
     "name": "stdout",
     "output_type": "stream",
     "text": [
      "['cba', 'dcb', 'gfe']\n"
     ]
    }
   ],
   "source": [
    "input_list = ['abc','bcd','efg']\n",
    "def r_list(lst):\n",
    "    output = []\n",
    "    for i in lst:\n",
    "        output.append(i[::-1])\n",
    "    return output\n",
    "print(r_list(input_list))"
   ]
  },
  {
   "cell_type": "code",
   "execution_count": 1,
   "metadata": {},
   "outputs": [
    {
     "name": "stdout",
     "output_type": "stream",
     "text": [
      "[[2, 4, 6, 8, 10], [1, 3, 5, 7, 9]]\n"
     ]
    }
   ],
   "source": [
    "input_list = [1,2,3,4,5,6,7,8,9,10]\n",
    "def even_odd(num):\n",
    "    even_list = []\n",
    "    odd_list = []\n",
    "    for i in num:\n",
    "        if i%2 == 0:\n",
    "            even_list.append(i)\n",
    "        else:\n",
    "            i%2 != 0\n",
    "            odd_list.append(i)\n",
    "        even_odd_list = [even_list,odd_list]\n",
    "    return even_odd_list\n",
    "print(even_odd(input_list))\n",
    "    \n",
    "    "
   ]
  },
  {
   "cell_type": "code",
   "execution_count": 55,
   "metadata": {},
   "outputs": [
    {
     "name": "stdout",
     "output_type": "stream",
     "text": [
      "[1, 3, 6, 7, 9]\n"
     ]
    }
   ],
   "source": [
    "def common(a,b):\n",
    "    output = []\n",
    "    for i in a:\n",
    "        if i in b:\n",
    "            output.append(i)\n",
    "    return output\n",
    "print(common([1,3,634,43,4,6,7,9,0],[1,3,4556,678,96,57,9,7,6,5]))"
   ]
  },
  {
   "cell_type": "code",
   "execution_count": 60,
   "metadata": {},
   "outputs": [
    {
     "name": "stdout",
     "output_type": "stream",
     "text": [
      "3\n"
     ]
    }
   ],
   "source": [
    "def func(lst):\n",
    "    output = 0\n",
    "    for i in lst:\n",
    "        if type(i) == list:\n",
    "            output += 1\n",
    "    return output\n",
    "input_list = [1,2,3,[4,5,6],[7,8,9],[10,11]]\n",
    "print(func(input_list))"
   ]
  },
  {
   "cell_type": "code",
   "execution_count": 19,
   "metadata": {},
   "outputs": [
    {
     "name": "stdout",
     "output_type": "stream",
     "text": [
      "{1: 1, 2: 8, 3: 27, 4: 64, 5: 125, 6: 216, 7: 343, 8: 512, 9: 729, 10: 1000}\n"
     ]
    }
   ],
   "source": [
    "def a_func(n):\n",
    "    cubes = {}\n",
    "    for i in range(1,n+1):\n",
    "        cubes[i] = i**3        \n",
    "    return cubes\n",
    "print(a_func(10))"
   ]
  },
  {
   "cell_type": "code",
   "execution_count": 17,
   "metadata": {},
   "outputs": [
    {
     "name": "stdout",
     "output_type": "stream",
     "text": [
      "enter a range: 4\n",
      "{1: 1, 2: 8, 3: 27, 4: 64}\n"
     ]
    }
   ],
   "source": [
    "def cube_return(a):\n",
    "    cube = {}\n",
    "    for i in range(1,a+1):\n",
    "        cube[i] = i*i*i\n",
    "    return cube\n",
    "\n",
    "limit = int(input(\"enter a range: \"))\n",
    "print(cube_return(limit))"
   ]
  },
  {
   "cell_type": "code",
   "execution_count": 5,
   "metadata": {},
   "outputs": [
    {
     "name": "stdout",
     "output_type": "stream",
     "text": [
      "enter your name : Yogesh\n",
      "enter your age : 23\n",
      "['enter your fav_movies : ']coco, rush\n",
      "['enter you fav_music : ']lahoriye, laung lachi\n",
      "{'name': 'Yogesh', 'age': '23', 'fav_movies': 'coco, rush', 'fav_music': 'lahoriye, laung lachi'}\n",
      "name:Yogesh\n",
      "age:23\n",
      "fav_movies:coco, rush\n",
      "fav_music:lahoriye, laung lachi\n"
     ]
    }
   ],
   "source": [
    "dic = {}\n",
    "dic['name'] = input(\"enter your name : \")\n",
    "dic['age'] = input('enter your age : ')\n",
    "dic['fav_movies'] = input('enter your fav_movies : '.split(','))\n",
    "dic['fav_music'] = input('enter you fav_music : '.split(','))\n",
    "print(dic)\n",
    "for keys,values in dic.items():\n",
    "    print(f'{keys}:{values}')"
   ]
  },
  {
   "cell_type": "code",
   "execution_count": 5,
   "metadata": {},
   "outputs": [
    {
     "name": "stdout",
     "output_type": "stream",
     "text": [
      "enter your name : Yogesh\n",
      "enter your age : 23\n",
      "enter your fav_movies : coco, kung fu panda\n",
      "enter you fav_music : laung lachi, lahoriye, pyscho saiyan\n",
      "name:Yogesh\n",
      "age:23\n",
      "fav_movies:['coco', ' kung fu panda']\n",
      "fav_music:['laung lachi', ' lahoriye', ' pyscho saiyan']\n"
     ]
    }
   ],
   "source": [
    "dic = {}\n",
    "dic['name'] = input(\"enter your name : \")\n",
    "dic['age'] = input('enter your age : ')\n",
    "dic['fav_movies'] = input('enter your fav_movies : ').split(',')\n",
    "dic['fav_music'] = input('enter you fav_music : ').split(',')\n",
    "\n",
    "for keys,values in dic.items():\n",
    "    print(f'{keys}:{values}')\n",
    "    "
   ]
  },
  {
   "cell_type": "code",
   "execution_count": 160,
   "metadata": {},
   "outputs": [
    {
     "name": "stdout",
     "output_type": "stream",
     "text": [
      "['hsukna', 'hsegoy']\n"
     ]
    }
   ],
   "source": [
    "def r_list(strng):\n",
    "    return [i[::-1] for i in strng]\n",
    "print(r_list(['ankush','yogesh']))"
   ]
  },
  {
   "cell_type": "code",
   "execution_count": 74,
   "metadata": {},
   "outputs": [
    {
     "name": "stdout",
     "output_type": "stream",
     "text": [
      "['3.0', '2', '3']\n"
     ]
    }
   ],
   "source": [
    "def str_list(lst):\n",
    "    return [str(i) for i in lst if (type(i) == int or type(i) == float)]\n",
    "print(str_list([True,False,'yogesh',3.0,2,3]))"
   ]
  },
  {
   "cell_type": "code",
   "execution_count": 72,
   "metadata": {},
   "outputs": [
    {
     "name": "stdout",
     "output_type": "stream",
     "text": [
      "['yogesh', True, False]\n"
     ]
    }
   ],
   "source": [
    "def str_list1(nums):\n",
    "    return [i for i in nums if (type(i) != float and type(i) != int)]\n",
    "print(str_list1(['yogesh', 2, True , 3.0, False]))"
   ]
  },
  {
   "cell_type": "code",
   "execution_count": 30,
   "metadata": {},
   "outputs": [
    {
     "name": "stdout",
     "output_type": "stream",
     "text": [
      "([2, 4, 6, 8, 10], [1, 3, 5, 7, 9])\n"
     ]
    }
   ],
   "source": [
    "def even_odd(even,odd):\n",
    "    return [i for i in even if i%2 == 0 ],[i for i in odd if i%2 != 0]\n",
    "print(even_odd(range(1,11),range(1,11))) "
   ]
  },
  {
   "cell_type": "code",
   "execution_count": 6,
   "metadata": {},
   "outputs": [
    {
     "name": "stdout",
     "output_type": "stream",
     "text": [
      "[[1, 2, 3], [1, 2, 3], [1, 2, 3]]\n"
     ]
    }
   ],
   "source": [
    "print([list(range(1,4)) for i in range(3)])"
   ]
  },
  {
   "cell_type": "code",
   "execution_count": 17,
   "metadata": {},
   "outputs": [
    {
     "name": "stdout",
     "output_type": "stream",
     "text": [
      "['odd', 2, 'odd', 4, 'odd', 6, 'odd', 8, 'odd', 10]\n"
     ]
    }
   ],
   "source": [
    "print([i if (i%2 == 0) else 'odd' for i in range(1,11)])"
   ]
  },
  {
   "cell_type": "code",
   "execution_count": 93,
   "metadata": {},
   "outputs": [
    {
     "name": "stdout",
     "output_type": "stream",
     "text": [
      "[-1, 4, -3, 8, -5, 12, -7, 16, -9, 20]\n"
     ]
    }
   ],
   "source": [
    "print([i*2 if (i%2 == 0) else -i for i in range(1,11)])"
   ]
  },
  {
   "cell_type": "code",
   "execution_count": 88,
   "metadata": {},
   "outputs": [
    {
     "name": "stdout",
     "output_type": "stream",
     "text": [
      "{1: 1, 2: 4, 3: 9, 4: 16, 5: 25, 6: 36, 7: 49, 8: 64, 9: 81, 10: 100}\n"
     ]
    }
   ],
   "source": [
    "def square(num):\n",
    "    return {i:i**2 for i in num}\n",
    "print(square(range(1,11)))"
   ]
  },
  {
   "cell_type": "code",
   "execution_count": 81,
   "metadata": {},
   "outputs": [
    {
     "name": "stdout",
     "output_type": "stream",
     "text": [
      "Even  2  4  6  8  10\n",
      "Odd  1  3  5  7  9\n"
     ]
    }
   ],
   "source": [
    "even = [str(i) for i in range(1,11) if i%2 == 0]\n",
    "odd = [str(i) for i in range(1,11) if i%2 != 0]\n",
    "print(\"Even  \"+'  '.join(even))\n",
    "print(\"Odd  \"+'  '.join(odd))"
   ]
  },
  {
   "cell_type": "code",
   "execution_count": 83,
   "metadata": {},
   "outputs": [
    {
     "name": "stdout",
     "output_type": "stream",
     "text": [
      "Evens\n",
      "0\n",
      "2\n",
      "4\n",
      "6\n",
      "8\n",
      "Odds\n",
      "1\n",
      "3\n",
      "5\n",
      "7\n",
      "9\n"
     ]
    }
   ],
   "source": [
    "evens = [str(x) for x in range(10) if x%2 == 0]\n",
    "odds = [str(x) for x in range(10) if x%2 == 1]\n",
    "print(\"Evens\\n\" + \"\\n\".join(evens))\n",
    "print(\"Odds\\n\" + \"\\n\".join(odds))"
   ]
  },
  {
   "cell_type": "code",
   "execution_count": 119,
   "metadata": {},
   "outputs": [
    {
     "name": "stdout",
     "output_type": "stream",
     "text": [
      "{'square of 1 is': 1, 'square of 2 is': 4, 'square of 3 is': 9, 'square of 4 is': 16, 'square of 5 is': 25, 'square of 6 is': 36, 'square of 7 is': 49, 'square of 8 is': 64, 'square of 9 is': 81, 'square of 10 is': 100}\n"
     ]
    }
   ],
   "source": [
    "#for writing square of { } is :\n",
    "def square(num):\n",
    "    return {f'square of {i} is':i**2 for i in num}\n",
    "print(square(range(1,11)))"
   ]
  },
  {
   "cell_type": "code",
   "execution_count": 5,
   "metadata": {},
   "outputs": [
    {
     "name": "stdout",
     "output_type": "stream",
     "text": [
      "square of 1 is : 1\n",
      "square of 2 is : 4\n",
      "square of 3 is : 9\n",
      "square of 4 is : 16\n",
      "square of 5 is : 25\n",
      "square of 6 is : 36\n",
      "square of 7 is : 49\n",
      "square of 8 is : 64\n",
      "square of 9 is : 81\n",
      "square of 10 is : 100\n"
     ]
    }
   ],
   "source": [
    "#for writing square of { } is :(in different line)\n",
    "sq = {f'square of {i} is':i**2 for i in range(1,11)}\n",
    "for k,v in sq.items():\n",
    "    print(f\"{k} : {v}\")"
   ]
  },
  {
   "cell_type": "code",
   "execution_count": 30,
   "metadata": {},
   "outputs": [
    {
     "name": "stdout",
     "output_type": "stream",
     "text": [
      "{'y': 1, 'o': 1, 'g': 1, 'e': 1, 's': 1, 'h': 1, ' ': 1, 'n': 2, 'a': 2, 'd': 1, 'l': 1}\n"
     ]
    }
   ],
   "source": [
    "name = \"yogesh nandal\"\n",
    "print({i:name.count(i) for i in name})"
   ]
  },
  {
   "cell_type": "code",
   "execution_count": 34,
   "metadata": {},
   "outputs": [
    {
     "name": "stdout",
     "output_type": "stream",
     "text": [
      "{0: 'even', 1: 'odd', 2: 'even', 3: 'odd', 4: 'even', 5: 'odd', 6: 'even', 7: 'odd', 8: 'even', 9: 'odd', 10: 'even'}\n"
     ]
    }
   ],
   "source": [
    "print({i:'odd' if (i%2 != 0) else 'even' for i in range(0,11)})"
   ]
  },
  {
   "cell_type": "code",
   "execution_count": 37,
   "metadata": {},
   "outputs": [
    {
     "name": "stdout",
     "output_type": "stream",
     "text": [
      "{64, 1, 4, 36, 100, 9, 16, 49, 81, 25}\n"
     ]
    }
   ],
   "source": [
    "print({i**2 for i in range(1,11)})"
   ]
  },
  {
   "cell_type": "code",
   "execution_count": 41,
   "metadata": {},
   "outputs": [
    {
     "name": "stdout",
     "output_type": "stream",
     "text": [
      "{'a', 'm', 's', 'h', 'y'}\n"
     ]
    }
   ],
   "source": [
    "names = [\"yogesh\",\"ankush\",'honey','swati','monty']\n",
    "print({i[0] for i in names})"
   ]
  },
  {
   "cell_type": "code",
   "execution_count": 64,
   "metadata": {},
   "outputs": [
    {
     "name": "stdout",
     "output_type": "stream",
     "text": [
      "8698715\n"
     ]
    }
   ],
   "source": [
    "def num(*args):\n",
    "    total = 0\n",
    "    for i in args:\n",
    "        total += i\n",
    "    return total\n",
    "print(num(21325,23123,545457,7874543,234267))"
   ]
  },
  {
   "cell_type": "code",
   "execution_count": 87,
   "metadata": {},
   "outputs": [
    {
     "name": "stdout",
     "output_type": "stream",
     "text": [
      "<generator object num.<locals>.<genexpr> at 0x000001AC74A8C480>\n"
     ]
    }
   ],
   "source": [
    "def num(*args):\n",
    "    total = 0\n",
    "    return ((total+i for i in args))\n",
    "nums = (12,34,56,6)\n",
    "print(num(*nums))"
   ]
  },
  {
   "cell_type": "code",
   "execution_count": 83,
   "metadata": {},
   "outputs": [
    {
     "name": "stdout",
     "output_type": "stream",
     "text": [
      "60\n"
     ]
    }
   ],
   "source": [
    "def mul(*args):\n",
    "    multi = 1\n",
    "    for i in args:\n",
    "        multi *= i\n",
    "    return multi\n",
    "print(mul(3,4,5))"
   ]
  },
  {
   "cell_type": "code",
   "execution_count": 85,
   "metadata": {},
   "outputs": [
    {
     "name": "stdout",
     "output_type": "stream",
     "text": [
      "20\n"
     ]
    }
   ],
   "source": [
    "# for using simple parameter like(num) with *args\n",
    "def multi(num, *args):\n",
    "    total = 1\n",
    "    for i in args:\n",
    "        total*=i\n",
    "    return total\n",
    "print(multi(3,4,5))#as we can see here 3 is selected as num and not counted to multiply in args\n",
    "#Note:- we cannot use num after args we can only use it before args\n",
    "# note 2 :- we can select as many nums as we want"
   ]
  },
  {
   "cell_type": "code",
   "execution_count": 89,
   "metadata": {},
   "outputs": [
    {
     "name": "stdout",
     "output_type": "stream",
     "text": [
      "20\n"
     ]
    }
   ],
   "source": [
    "def multi(num, *args): #this is called parameters\n",
    "    total = 1\n",
    "    for i in args:\n",
    "        total*=i\n",
    "    return total\n",
    "nums = (3,4,5)\n",
    "print(multi(*nums))#this is called arguments # here as we can see that by using *(before nums) we can unpack the tuple which will create error if we don't do this"
   ]
  },
  {
   "cell_type": "code",
   "execution_count": 116,
   "metadata": {},
   "outputs": [
    {
     "name": "stdout",
     "output_type": "stream",
     "text": [
      "[8, 64, 125]\n"
     ]
    }
   ],
   "source": [
    "def power(num,*args):\n",
    "    if args:\n",
    "            return [i**num for i in args]\n",
    "    else:\n",
    "        return \"u haven't provided any arge\"\n",
    "nums = (2,4,5)\n",
    "print(power(3,*nums))"
   ]
  },
  {
   "cell_type": "code",
   "execution_count": 121,
   "metadata": {},
   "outputs": [
    {
     "name": "stdout",
     "output_type": "stream",
     "text": [
      "enter a number: 2\n",
      "enter a list of numbers: 2,3\n",
      "[4, 9]\n"
     ]
    }
   ],
   "source": [
    "a=int(input(\"enter a number: \"))\n",
    "b=list(input(\"enter a list of numbers: \").split(\",\"))\n",
    "def s_l(num, *args):\n",
    "\tif num or args:\n",
    "\t\treturn [int(i)**num for i in args]\n",
    "\telse:\n",
    "\t\tprint(\"you didn't provide any args\")\n",
    "print(s_l(a,*b))\n",
    "\n"
   ]
  },
  {
   "cell_type": "code",
   "execution_count": 213,
   "metadata": {},
   "outputs": [
    {
     "name": "stdout",
     "output_type": "stream",
     "text": [
      "['Iabmum', 'Ihled']\n"
     ]
    }
   ],
   "source": [
    "def a_list(lst, **kwargs):\n",
    "    if kwargs.get('r_str'):\n",
    "        return [i[::-1].title() for i in lst[::-1]]\n",
    "    else:\n",
    "        return [i.title() for i in lst]\n",
    "city_names = ['delhi','mumbai']\n",
    "print(a_list(city_names, r_str = True))"
   ]
  },
  {
   "cell_type": "code",
   "execution_count": 210,
   "metadata": {},
   "outputs": [
    {
     "name": "stdout",
     "output_type": "stream",
     "text": [
      "['Iabmum', 'Ihled']\n"
     ]
    }
   ],
   "source": [
    "def a_list(lst):\n",
    "        return [i[::-1].title() for i in lst[::-1]]\n",
    "names_list = ['delhi','mumbai']\n",
    "print(a_list(names_list))"
   ]
  },
  {
   "cell_type": "code",
   "execution_count": 214,
   "metadata": {},
   "outputs": [
    {
     "name": "stdout",
     "output_type": "stream",
     "text": [
      "121\n"
     ]
    }
   ],
   "source": [
    "add = lambda a,b : a+b\n",
    "print(add(56,65))"
   ]
  },
  {
   "cell_type": "code",
   "execution_count": 215,
   "metadata": {},
   "outputs": [
    {
     "name": "stdout",
     "output_type": "stream",
     "text": [
      "3640\n"
     ]
    }
   ],
   "source": [
    "multiply = lambda a,b : a*b\n",
    "print(multiply(56,65))"
   ]
  },
  {
   "cell_type": "code",
   "execution_count": 217,
   "metadata": {},
   "outputs": [
    {
     "name": "stdout",
     "output_type": "stream",
     "text": [
      "38\n"
     ]
    }
   ],
   "source": [
    "minus = lambda a,b,c : (a+b)-c\n",
    "print(minus(56,65,83))"
   ]
  },
  {
   "cell_type": "code",
   "execution_count": 225,
   "metadata": {},
   "outputs": [
    {
     "name": "stdout",
     "output_type": "stream",
     "text": [
      "91125\n"
     ]
    }
   ],
   "source": [
    "cube = lambda a : a**3\n",
    "print(cube(45))"
   ]
  },
  {
   "cell_type": "code",
   "execution_count": 228,
   "metadata": {},
   "outputs": [
    {
     "name": "stdout",
     "output_type": "stream",
     "text": [
      "True\n"
     ]
    }
   ],
   "source": [
    "True_False = lambda s : len(s) > 3\n",
    "print(True_False('abcd'))"
   ]
  },
  {
   "cell_type": "code",
   "execution_count": 229,
   "metadata": {},
   "outputs": [
    {
     "name": "stdout",
     "output_type": "stream",
     "text": [
      "True\n"
     ]
    }
   ],
   "source": [
    "True_False = lambda s : True if len(s) > 3 else False\n",
    "print(True_False('abcd'))"
   ]
  },
  {
   "cell_type": "code",
   "execution_count": 12,
   "metadata": {},
   "outputs": [
    {
     "name": "stdout",
     "output_type": "stream",
     "text": [
      "Player 1, choose X or O: o\n",
      "('o', 'x')\n"
     ]
    }
   ],
   "source": [
    "# program to get a input from a user to check that user give x,o as a input\n",
    "def player_input():\n",
    "    marker = ' '\n",
    "    #keep asking player 1 to choose x or o\n",
    "    while marker != 'x' and marker != 'o':\n",
    "        marker = input('Player 1, choose X or O: ')\n",
    "    # assign player 2, the opposite marker\n",
    "    player1 = marker\n",
    "    if player1 == 'x':\n",
    "        player2 = 'o'\n",
    "    else:\n",
    "        player2 = 'x'        \n",
    "    return(player1, player2)\n",
    "print(player_input())"
   ]
  },
  {
   "cell_type": "code",
   "execution_count": 6,
   "metadata": {},
   "outputs": [
    {
     "name": "stdout",
     "output_type": "stream",
     "text": [
      "0---->diksha\n",
      "1---->manisha\n",
      "2---->anjali\n",
      "3---->parisha\n"
     ]
    }
   ],
   "source": [
    "#without enumerate function\n",
    "names = ['diksha','manisha','anjali','parisha']\n",
    "lst = 0\n",
    "for name in names:\n",
    "    print(f'{lst}---->{name}')\n",
    "    lst += 1\n"
   ]
  },
  {
   "cell_type": "code",
   "execution_count": 7,
   "metadata": {},
   "outputs": [
    {
     "name": "stdout",
     "output_type": "stream",
     "text": [
      "0---->yogesh\n",
      "1---->ankush\n",
      "2---->nandal\n"
     ]
    }
   ],
   "source": [
    "# With enumerate function\n",
    "names = ['yogesh','ankush','nandal']\n",
    "lst = 0\n",
    "for lst,name in enumerate(names):\n",
    "    print(f'{lst}---->{name}')"
   ]
  },
  {
   "cell_type": "code",
   "execution_count": 16,
   "metadata": {},
   "outputs": [
    {
     "name": "stdout",
     "output_type": "stream",
     "text": [
      "3\n",
      "-1\n"
     ]
    }
   ],
   "source": [
    "# enumerate function to find postion of a string in a list\n",
    "names = ['kamal','pardeep','roshan','vaibhav']\n",
    "lst = 0\n",
    "def emu_func(lst,name):\n",
    "    for king,names_1 in enumerate(lst):\n",
    "        if names_1 == name:\n",
    "            return king\n",
    "    return -1\n",
    "print(emu_func(names,'vaibhav'))\n",
    "print(emu_func(names,'ankush'))"
   ]
  },
  {
   "cell_type": "code",
   "execution_count": 27,
   "metadata": {},
   "outputs": [
    {
     "name": "stdout",
     "output_type": "stream",
     "text": [
      "3\n",
      "4\n",
      "5\n"
     ]
    }
   ],
   "source": [
    "# with lamda func in map\n",
    "list_len = ['abc','abcd','abcde']\n",
    "length = map(lambda a : len(a), list_len)\n",
    "for i in length:\n",
    "    print(i)"
   ]
  },
  {
   "cell_type": "code",
   "execution_count": 2,
   "metadata": {},
   "outputs": [
    {
     "name": "stdout",
     "output_type": "stream",
     "text": [
      "3\n",
      "4\n",
      "5\n"
     ]
    }
   ],
   "source": [
    "# without lamda func but only with default func such as len in map\n",
    "list_len = ['abc','abcd','abcde']\n",
    "length = map(len, list_len)\n",
    "for i in length:\n",
    "    print(i)\n",
    "\n",
    "# note:- In map func we can use loop only once for eg:\n",
    "for j in length:\n",
    "    print(j) # as we can see it didn't work"
   ]
  },
  {
   "cell_type": "code",
   "execution_count": 6,
   "metadata": {},
   "outputs": [
    {
     "name": "stdout",
     "output_type": "stream",
     "text": [
      "[3, 4, 5]\n",
      "3\n",
      "4\n",
      "5\n",
      "3\n",
      "4\n",
      "5\n"
     ]
    }
   ],
   "source": [
    "# with list we can use as many loops as we want for eg:\n",
    "list_len = ['abc','abcd','abcde']\n",
    "length = list(map(lambda a : len(a), list_len))\n",
    "print(length)\n",
    "\n",
    "for i in length:\n",
    "    print(i)\n",
    "    \n",
    "for j in length:\n",
    "    print(j)"
   ]
  },
  {
   "cell_type": "code",
   "execution_count": 11,
   "metadata": {},
   "outputs": [
    {
     "name": "stdout",
     "output_type": "stream",
     "text": [
      "[False, True, False, True, False, True, True, False, False, True]\n"
     ]
    }
   ],
   "source": [
    "# with map func\n",
    "numbers = [3,2,1,6,5,4,8,7,9,10]\n",
    "lst = list(map(lambda a:a%2==0, numbers))\n",
    "print(lst)\n",
    "# Note:- map func. can perform any operation like add, subtract, multiply or any other operations"
   ]
  },
  {
   "cell_type": "code",
   "execution_count": 12,
   "metadata": {},
   "outputs": [
    {
     "name": "stdout",
     "output_type": "stream",
     "text": [
      "[2, 6, 4, 8, 10]\n"
     ]
    }
   ],
   "source": [
    "# with filter func\n",
    "numbers = [3,2,1,6,5,4,8,7,9,10]\n",
    "lst = list(filter(lambda a:a%2==0, numbers))\n",
    "print(lst)\n",
    "#note:- filter func. returns another list from a list after filtering it(by checking bolean value in list that it's true or false) if it's true it will return all true values, It can't perfome add, multiply, square or any other operations."
   ]
  },
  {
   "cell_type": "code",
   "execution_count": 62,
   "metadata": {},
   "outputs": [
    {
     "name": "stdout",
     "output_type": "stream",
     "text": [
      "[3, 5, 1, 3, 5]\n",
      "[26, 28, 24, 26, 28]\n",
      "-80\n"
     ]
    }
   ],
   "source": [
    "from functools import reduce\n",
    "# (filter) then # (map) then finally (reduce) for eg:\n",
    "nums = [3,4,8,5,2,1,3,5,6]\n",
    "# we have to find odd_numbers in this list:\n",
    "# so we will use filter func. to filter our list:\n",
    "odd_no = list(filter(lambda i : i%2 != 0, nums))\n",
    "print(odd_no)\n",
    "# Now we will use map func. to perform +23 in all our list:-\n",
    "add_23 = list(map(lambda i : i+23, odd_no))\n",
    "print(add_23)\n",
    "# Now we will subtract all values with each other by reduce method:-\n",
    "minus = reduce(lambda i,j : i-j, add_23)\n",
    "print(minus)"
   ]
  },
  {
   "cell_type": "code",
   "execution_count": 15,
   "metadata": {},
   "outputs": [
    {
     "name": "stdout",
     "output_type": "stream",
     "text": [
      "[4.0, 5.0, 6.0]\n"
     ]
    }
   ],
   "source": [
    "# Create a func. where a list will take any no. of lists and will divide lists 1st no. with 3 and try to do this with lambda func.\n",
    "# with lots of code:\n",
    "#for 2 lists average:\n",
    "def av_func(l1,l2):\n",
    "    av_list = [ ]\n",
    "    for pair in zip(l1,l2):\n",
    "        av_list.append(sum(pair)/len(pair))\n",
    "    return av_list\n",
    "print(av_func([1,2,3],[7,8,9]))                   \n"
   ]
  },
  {
   "cell_type": "code",
   "execution_count": 16,
   "metadata": {},
   "outputs": [
    {
     "name": "stdout",
     "output_type": "stream",
     "text": [
      "[5.5, 6.5, 7.5]\n"
     ]
    }
   ],
   "source": [
    "# Create a func. where a list will take any no. of lists and will divide lists 1st no. with 3 and try to do this with lambda func.\n",
    "# with lots of code:\n",
    "#for infinte lists average:\n",
    "def av_funct(*args):\n",
    "    av_list1 = [ ]\n",
    "    for pair in zip(*args):\n",
    "        av_list1.append(sum(pair)/len(pair))\n",
    "    return av_list1\n",
    "print(av_funct([1,2,3],[7,8,9],[4,5,6],[10,11,12]))                   \n"
   ]
  },
  {
   "cell_type": "code",
   "execution_count": 20,
   "metadata": {},
   "outputs": [
    {
     "name": "stdout",
     "output_type": "stream",
     "text": [
      "[5.5, 6.5, 7.5]\n"
     ]
    }
   ],
   "source": [
    "# Create a func. where a list will take any no. of lists and will divide lists 1st no. with 3 and try to do this with lambda func.\n",
    "# with one line of code:\n",
    "#for infinte lists average:\n",
    "\n",
    "\n",
    "#def av_funct(*args):\n",
    "    #av_list1 = [ ]\n",
    "    #for pair in zip(*args):\n",
    "        #av_list1.append(sum(pair)/len(pair))\n",
    "    #return av_list1\n",
    "#print(av_funct([1,2,3],[7,8,9],[4,5,6],[10,11,12]))   \n",
    "\n",
    "#convert this code in one line:\n",
    "av_function = lambda *args : [sum(pair)/len(pair) for pair in zip(*args)]\n",
    "print(av_function([1,2,3],[7,8,9],[4,5,6],[10,11,12]))"
   ]
  },
  {
   "cell_type": "code",
   "execution_count": 25,
   "metadata": {},
   "outputs": [
    {
     "name": "stdout",
     "output_type": "stream",
     "text": [
      "[5, 6, 7]\n",
      "[5.5, 6.5, 7.5]\n",
      "[5.5, 6.5, 7.5]\n"
     ]
    }
   ],
   "source": [
    "# Another way of doing this\n",
    "# av_function = lambda *args : [sum(pair)/len(pair) for pair in zip(*args)]\n",
    "\n",
    "a = lambda *args : list(map(lambda i:sum(i)//len(i),list(zip(*args))))\n",
    "print(a([1,2,3],[7,8,9],[4,5,6],[10,11,12]))\n",
    "\n",
    "\n",
    "print(list(sum(pair)/len(pair) for pair in [*zip([1,2,3],[7,8,9],[4,5,6],[10,11,12])]))\n",
    "\n",
    "\n",
    "print(list(map(lambda a: sum(a)/len(a),zip([1,2,3],[7,8,9],[4,5,6],[10,11,12]))))"
   ]
  },
  {
   "cell_type": "code",
   "execution_count": 21,
   "metadata": {},
   "outputs": [
    {
     "name": "stdout",
     "output_type": "stream",
     "text": [
      "[True, True, True, True, True]\n",
      "[False, True, False, True, False, True]\n",
      "True\n",
      "False\n"
     ]
    }
   ],
   "source": [
    "# To check whether all numbers in list_1 (numbers1) is even or not:\n",
    "numbers1 = [2,4,6,8,10]\n",
    "numbers2 = [1,2,3,4,5,6]\n",
    "alleven1 = [i%2 == 0 for i in numbers1]\n",
    "alleven2 = [i%2 == 0 for i in numbers2]\n",
    "print(alleven1)\n",
    "print(alleven2)\n",
    "# Now we can use all function to check if our all input values are true or not and give as single output\n",
    "print(all(alleven1))\n",
    "print(all(alleven2))\n"
   ]
  },
  {
   "cell_type": "code",
   "execution_count": 24,
   "metadata": {},
   "outputs": [
    {
     "name": "stdout",
     "output_type": "stream",
     "text": [
      "[False, False, False, False, False]\n",
      "[False, True, False, True, False, True]\n",
      "False\n",
      "True\n"
     ]
    }
   ],
   "source": [
    "# To check whether any number in list_1 (numbers1) is even or not:\n",
    "numbers1 = [1,3,5,7,9]\n",
    "numbers2 = [1,2,3,4,5,6]\n",
    "anyeven1 = [i%2 == 0 for i in numbers1]\n",
    "anyeven2 = [i%2 == 0 for i in numbers2]\n",
    "print(anyeven1)\n",
    "print(anyeven2)\n",
    "# Now we can use all function to check if our all input values are true or not and give as single output\n",
    "print(any(anyeven1))\n",
    "print(any(anyeven2))\n"
   ]
  },
  {
   "cell_type": "code",
   "execution_count": 1,
   "metadata": {},
   "outputs": [
    {
     "ename": "TypeError",
     "evalue": "'int' object is not iterable",
     "output_type": "error",
     "traceback": [
      "\u001b[1;31m---------------------------------------------------------------------------\u001b[0m",
      "\u001b[1;31mTypeError\u001b[0m                                 Traceback (most recent call last)",
      "\u001b[1;32m<ipython-input-1-2d3de28fc013>\u001b[0m in \u001b[0;36m<module>\u001b[1;34m\u001b[0m\n\u001b[0;32m      1\u001b[0m \u001b[0mnames\u001b[0m \u001b[1;33m=\u001b[0m \u001b[1;33m[\u001b[0m\u001b[1;34m'yogesh'\u001b[0m\u001b[1;33m,\u001b[0m\u001b[1;34m'ankush'\u001b[0m\u001b[1;33m,\u001b[0m\u001b[1;34m'swatinandal'\u001b[0m\u001b[1;33m,\u001b[0m\u001b[1;34m'ab'\u001b[0m\u001b[1;33m]\u001b[0m\u001b[1;33m\u001b[0m\u001b[1;33m\u001b[0m\u001b[0m\n\u001b[1;32m----> 2\u001b[1;33m \u001b[0mprint\u001b[0m\u001b[1;33m(\u001b[0m\u001b[0mmax\u001b[0m\u001b[1;33m(\u001b[0m\u001b[0mlen\u001b[0m\u001b[1;33m(\u001b[0m\u001b[0mnames\u001b[0m\u001b[1;33m)\u001b[0m\u001b[1;33m)\u001b[0m\u001b[1;33m)\u001b[0m\u001b[1;33m\u001b[0m\u001b[1;33m\u001b[0m\u001b[0m\n\u001b[0m",
      "\u001b[1;31mTypeError\u001b[0m: 'int' object is not iterable"
     ]
    }
   ],
   "source": [
    "names = ['yogesh','ankush','swatinandal','ab']\n",
    "print(max(len(names)))"
   ]
  },
  {
   "cell_type": "code",
   "execution_count": 26,
   "metadata": {},
   "outputs": [],
   "source": [
    "# global name space vs enclosing name space vs local space name:\n",
    "x = 50  # It's a global name space, so every variable that is assigned before func. is a global variable\n",
    "def a_func():\n",
    "    x = 'yogesh' # it's a enclosing variable it comes after global but before local\n",
    "    def a_fun():\n",
    "        x = 'ankush' # It's a local variable that will excecute 1st\n",
    "        print('hello ' + x)\n",
    "    a_fun()\n",
    "\n"
   ]
  },
  {
   "cell_type": "code",
   "execution_count": 27,
   "metadata": {},
   "outputs": [
    {
     "data": {
      "text/plain": [
       "50"
      ]
     },
     "execution_count": 27,
     "metadata": {},
     "output_type": "execute_result"
    }
   ],
   "source": [
    "x"
   ]
  },
  {
   "cell_type": "code",
   "execution_count": 28,
   "metadata": {},
   "outputs": [
    {
     "name": "stdout",
     "output_type": "stream",
     "text": [
      "hello ankush\n"
     ]
    }
   ],
   "source": [
    "a_func()"
   ]
  },
  {
   "cell_type": "code",
   "execution_count": 37,
   "metadata": {},
   "outputs": [],
   "source": [
    "# global name space vs enclosing name space vs local space name:\n",
    "x = 'Swati' # It's a global name space, so every variable that is assigned before func. is a global variable\n",
    "def a_func():\n",
    "    x = 'yogesh' # it's a enclosing variable it comes after global but before local\n",
    "    def a_fun():\n",
    "       # x = 'ankush' # It's a local variable that will excecute 1st\n",
    "        print('hello ' + x)\n",
    "    a_fun()"
   ]
  },
  {
   "cell_type": "code",
   "execution_count": 38,
   "metadata": {},
   "outputs": [
    {
     "data": {
      "text/plain": [
       "'Swati'"
      ]
     },
     "execution_count": 38,
     "metadata": {},
     "output_type": "execute_result"
    }
   ],
   "source": [
    "x "
   ]
  },
  {
   "cell_type": "code",
   "execution_count": 39,
   "metadata": {},
   "outputs": [
    {
     "name": "stdout",
     "output_type": "stream",
     "text": [
      "hello yogesh\n"
     ]
    }
   ],
   "source": [
    "a_func()"
   ]
  },
  {
   "cell_type": "code",
   "execution_count": 40,
   "metadata": {},
   "outputs": [],
   "source": [
    "# global name space vs enclosing name space vs local space name:\n",
    "x = 'swati' # It's a global name space, so every variable that is assigned before func. is a global variable\n",
    "def a_func():\n",
    "    #x = 'yogesh' # it's a enclosing variable it comes after global but before local\n",
    "    def a_fun():\n",
    "       # x = 'ankush' # It's a local variable that will excecute 1st\n",
    "        print('hello ' + x)\n",
    "    a_fun()"
   ]
  },
  {
   "cell_type": "code",
   "execution_count": 41,
   "metadata": {},
   "outputs": [
    {
     "data": {
      "text/plain": [
       "'swati'"
      ]
     },
     "execution_count": 41,
     "metadata": {},
     "output_type": "execute_result"
    }
   ],
   "source": [
    "x"
   ]
  },
  {
   "cell_type": "code",
   "execution_count": 42,
   "metadata": {},
   "outputs": [
    {
     "name": "stdout",
     "output_type": "stream",
     "text": [
      "hello swati\n"
     ]
    }
   ],
   "source": [
    "a_func()"
   ]
  },
  {
   "cell_type": "code",
   "execution_count": null,
   "metadata": {},
   "outputs": [],
   "source": []
  }
 ],
 "metadata": {
  "kernelspec": {
   "display_name": "Python 3",
   "language": "python",
   "name": "python3"
  },
  "language_info": {
   "codemirror_mode": {
    "name": "ipython",
    "version": 3
   },
   "file_extension": ".py",
   "mimetype": "text/x-python",
   "name": "python",
   "nbconvert_exporter": "python",
   "pygments_lexer": "ipython3",
   "version": "3.7.3"
  }
 },
 "nbformat": 4,
 "nbformat_minor": 2
}
